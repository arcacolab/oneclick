{
  "nbformat": 4,
  "nbformat_minor": 0,
  "metadata": {
    "colab": {
      "private_outputs": true,
      "provenance": [],
      "authorship_tag": "ABX9TyNlhZ/fdC7sdan68mAnEGts",
      "include_colab_link": true
    },
    "kernelspec": {
      "name": "python3",
      "display_name": "Python 3"
    },
    "language_info": {
      "name": "python"
    }
  },
  "cells": [
    {
      "cell_type": "markdown",
      "metadata": {
        "id": "view-in-github",
        "colab_type": "text"
      },
      "source": [
        "<a href=\"https://colab.research.google.com/github/arcacolab/oneclick/blob/main/%ED%81%B4%EB%A6%AD_%ED%86%B5%ED%95%A9_segsmaker.ipynb\" target=\"_parent\"><img src=\"https://colab.research.google.com/assets/colab-badge.svg\" alt=\"Open In Colab\"/></a>"
      ]
    },
    {
      "cell_type": "code",
      "execution_count": null,
      "metadata": {
        "cellView": "form",
        "id": "UBemnrkOhE3S"
      },
      "outputs": [],
      "source": [
        "#@markdown ### <font color=\"orange\">***WebUI 설치***</font>\n",
        "\n",
        "from google.colab import drive\n",
        "drive.mount('/content/drive')\n",
        "\n",
        "ui = 'ReForge' # @param [\"A1111\", \"Forge\", \"ComfyUI\", \"ReForge\", \"SwarmUI\"]\n",
        "#SwarmUI는 뭔지 몰라서 모델, 출력물 연동에 해당사항 없음\n",
        "sd = 'XL' # @#param [\"1.5\", \"XL\"] 컨넷 디테일 로라 다운시 버전 확인을 위한 함수인데 필요 없어서 숨겨놓음\n",
        "civitai___key = '' # @param {type:\"string\", placeholder:\"Civitai API 키를 입력하세요 (선택)\"}\n",
        "hf_read_token = '' # @param {type:\"string\", placeholder:\"Huggingface READ 토큰을 입력하세요 (선택)\"}\n",
        "MODEL_NAME = \"NAI-XL_vpred1.0_2dac_final65\" # @param [\"NoobAI-XL-Vpred-v1.0\",\"MINTSDXL_MintChocoChip_B\",\"NoobAI-XL-v1.1\",\"miaomiaoHarem_v14\",\"uncannyValley_uncannyvallyNoob3dV1\",\"illustriousXLPersonalMerge_v30Noob10based\",\"Illustrious-XL-v0.1\",\"animagineXL40_v40\",\"NoobAI-XL-Vpred-v1.0-perpendicular-cyberfix-v2\",\"hesperidesIllustrious_v10\",\"모델을 선택해주세요\",\"NAI-XL_vpred1.0_2dac_final65\"]\n",
        "LAUNCH = True # @param {\"type\":\"boolean\"}\n",
        "\n",
        "if not civitai___key:\n",
        "    civitai___key = \"qwertyuiopasdfghjklzxcvbnm123456\"\n",
        "    print(\"토큰이 입력되지 않았습니다.\")\n",
        "    #토큰 입력해도 버그인지 시빗 브라우저에 자동으로 기입이 안되는듯\n",
        "\n",
        "print(f\"civitai___key: {civitai___key}\")\n",
        "\n",
        "\n",
        "!curl -sLo /content/setup.py https://github.com/gutris1/segsmaker/raw/main/script/KC/setup.py\n",
        "%run /content/setup.py --webui=\"$ui\" --sd=\"$sd\" --civitai_key=\"$civitai___key\" --hf_read_token=\"$hf_read_token\"\n",
        "\n",
        "if ui == 'A1111':\n",
        "  PATH = \"/content/A1111\"\n",
        "  jadong = True\n",
        "  args = '--api --xformers --share'\n",
        "\n",
        "if ui == 'Forge':\n",
        "  PATH = \"/content/Forge\"\n",
        "  jadong = True\n",
        "  args = '--api --share --disable-xformers --opt-sdp-attention --cuda-stream --pin-shared-memory'\n",
        "\n",
        "if ui == 'ReForge':\n",
        "  PATH = \"/content/ReForge\"\n",
        "  jadong = True\n",
        "  args = '--api --share --xformers --cuda-stream --pin-shared-memory'\n",
        "\n",
        "if ui == 'ComfyUI':\n",
        "  PATH = \"/content/ComfyUI\"\n",
        "  jadong = False\n",
        "  args = '--dont-print-server --preview-method auto --use-pytorch-cross-attention'\n",
        "\n",
        "elif ui == 'SwarmUI':\n",
        "  jadong = False\n",
        "  args = '--launch_mode none'\n",
        "\n",
        "if jadong:\n",
        "  !git clone -q https://github.com/adieyal/sd-dynamic-prompts {PATH}/extensions/sd-dynamic-prompts\n",
        "  !git clone -q https://github.com/bedovyy/chibi-client {PATH}/extensions/chibi-client\n",
        "\n",
        "\n",
        "%cd /content\n",
        "!git clone https://huggingface.co/arcacolab/drive_link\n",
        "\n",
        "if ui == 'A1111':\n",
        "  %run /content/drive_link/a1111_drive_link.ipynb\n",
        "if ui == 'ReForge':\n",
        "  %run /content/drive_link/reforge_drive_link.ipynb\n",
        "if ui == 'Forge':\n",
        "  %run /content/drive_link/forge_drive_link.ipynb\n",
        "if ui == 'ComfyUI':\n",
        "  %run /content/drive_link/comfyui_drive_link.ipynb\n",
        "\n",
        "%cd {PATH}\n",
        "if jadong == True:\n",
        "  !aria2c -x 8 -s 8 https://huggingface.co/arcacolab/models/resolve/main/{MODEL_NAME}.safetensors -o /models/Stable-diffusion/{MODEL_NAME}.safetensors\n",
        "if jadong == False:\n",
        "  !aria2c -x 8 -s 8 https://huggingface.co/arcacolab/models/resolve/main/{MODEL_NAME}.safetensors -o models/checkpoints/{MODEL_NAME}.safetensors\n",
        "\n",
        "if LAUNCH:\n",
        "  %cd -q $WebUI\n",
        "  %run segsmaker.py {args} #--dont-print-server --preview-method auto --use-pytorch-cross-attention"
      ]
    }
  ]
}